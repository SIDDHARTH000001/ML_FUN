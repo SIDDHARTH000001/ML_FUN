{
 "cells": [
  {
   "cell_type": "code",
   "execution_count": 55,
   "metadata": {},
   "outputs": [
    {
     "data": {
      "text/plain": [
       "True"
      ]
     },
     "execution_count": 55,
     "metadata": {},
     "output_type": "execute_result"
    }
   ],
   "source": [
    "from dotenv import load_dotenv\n",
    "load_dotenv(override=True)"
   ]
  },
  {
   "cell_type": "code",
   "execution_count": 73,
   "metadata": {},
   "outputs": [],
   "source": [
    "import asyncio\n",
    "import os\n",
    "\n",
    "from dotenv import load_dotenv\n",
    "from langchain_core.messages import HumanMessage\n",
    "from langchain_mcp_adapters.tools import load_mcp_tools\n",
    "from langchain_openai import AzureChatOpenAI\n",
    "from langgraph.prebuilt import create_react_agent\n",
    "from mcp import ClientSession, StdioServerParameters\n",
    "from mcp.client.stdio import stdio_client\n",
    "from langchain_mcp_adapters.client import MultiServerMCPClient\n",
    "load_dotenv()\n",
    "\n",
    "llm = AzureChatOpenAI(\n",
    "    deployment_name=os.getenv(\"OPENAI_API_DEPLOYMENT\"),\n",
    "    azure_endpoint=os.getenv(\"OPENAI_API_ENDPOINT\"),\n",
    "    temperature=0,\n",
    ")"
   ]
  },
  {
   "cell_type": "markdown",
   "metadata": {},
   "source": [
    "# fetch tool"
   ]
  },
  {
   "cell_type": "code",
   "execution_count": 75,
   "metadata": {},
   "outputs": [
    {
     "data": {
      "text/plain": [
       "StdioServerParameters(command='uvx', args=['mcp-server-fetch'], env=None, cwd=None, encoding='utf-8', encoding_error_handler='strict')"
      ]
     },
     "execution_count": 75,
     "metadata": {},
     "output_type": "execute_result"
    }
   ],
   "source": [
    "fetch_params = {\"command\": \"uvx\", \"args\": [\"mcp-server-fetch\"]}\n",
    "\n",
    "fetch_tools_param = StdioServerParameters(\n",
    "    command=\"uvx\",\n",
    "    args=[\"mcp-server-fetch\"],\n",
    ")\n",
    "fetch_tools_param\n"
   ]
  },
  {
   "cell_type": "code",
   "execution_count": 94,
   "metadata": {},
   "outputs": [],
   "source": [
    "async with stdio_client(fetch_tools_param) as (read, write):\n",
    "    async with ClientSession(read, write) as session:\n",
    "        try:\n",
    "            \n",
    "            await session.initialize()\n",
    "    \n",
    "            # Get tools\n",
    "            tools = await load_mcp_tools(session)\n",
    "            print(tools)\n",
    "            agent = create_react_agent(llm, tools)\n",
    "            response = await agent.ainvoke({\"messages\": \"can you get data from this url https://github.com/modelcontextprotocol/servers/tree/main/src/fetch\"})\n",
    "            print(response)\n",
    "            \n",
    "        except Exception as e:\n",
    "            print(e)"
   ]
  },
  {
   "cell_type": "markdown",
   "metadata": {},
   "source": [
    "## puppeteer"
   ]
  },
  {
   "cell_type": "code",
   "execution_count": 95,
   "metadata": {},
   "outputs": [],
   "source": [
    "puppeteer_params = StdioServerParameters(\n",
    "    command=\"npx\",\n",
    "    args=[\"-y\",\"@modelcontextprotocol/server-puppeteer\" ],\n",
    ")\n",
    "\n",
    "async with stdio_client(puppeteer_params) as (read, write):\n",
    "    async with ClientSession(read, write) as session:\n",
    "        try:\n",
    "            await session.initialize()\n",
    "    \n",
    "            # Get tools\n",
    "            tools = await load_mcp_tools(session)\n",
    "            print(tools)\n",
    "            agent = create_react_agent(llm, tools)\n",
    "            response = await agent.ainvoke({\"messages\": \"can you get data from this url https://github.com/modelcontextprotocol/servers/tree/main/src/fetch and summarize it\" })\n",
    "            print(response['messages'][-1].content)\n",
    "        \n",
    "        except Exception as e:\n",
    "            print(e)"
   ]
  },
  {
   "cell_type": "markdown",
   "metadata": {},
   "source": [
    "## file manager"
   ]
  },
  {
   "cell_type": "code",
   "execution_count": 99,
   "metadata": {},
   "outputs": [],
   "source": [
    "\n",
    "sandbox_path = os.path.abspath(os.path.join(os.getcwd(), \"sandbox\"))\n",
    "files_params = {\"command\": \"npx\", \"args\": [\"-y\", \"@modelcontextprotocol/server-filesystem\", sandbox_path]}\n",
    "\n",
    "file_tools = StdioServerParameters(\n",
    "    command=\"npx\",\n",
    "    args=[\"-y\",\"@modelcontextprotocol/server-filesystem\", sandbox_path ],\n",
    ")\n",
    "\n",
    "\n",
    "async with stdio_client(file_tools) as (read, write):\n",
    "    async with ClientSession(read, write) as session:\n",
    "        try:\n",
    "            await session.initialize()\n",
    "    \n",
    "            # Get tools\n",
    "            tools = await load_mcp_tools(session)\n",
    "            print(tools)\n",
    "            agent = create_react_agent(llm, tools)\n",
    "            response = await agent.ainvoke({\"messages\": \"write a detail difference between Langchain vs langraph in table format and save it in md file\" })\n",
    "            print(response['messages'][-1].content)\n",
    "        \n",
    "        except Exception as e:\n",
    "            print(e)\n"
   ]
  },
  {
   "cell_type": "markdown",
   "metadata": {},
   "source": [
    "# playwright"
   ]
  },
  {
   "cell_type": "code",
   "execution_count": 97,
   "metadata": {},
   "outputs": [
    {
     "data": {
      "text/plain": [
       "StdioServerParameters(command='npx', args=['@playwright/mcp@latest'], env=None, cwd=None, encoding='utf-8', encoding_error_handler='strict')"
      ]
     },
     "execution_count": 97,
     "metadata": {},
     "output_type": "execute_result"
    }
   ],
   "source": [
    "\n",
    "playwright_params = {\"command\": \"npx\", \"args\": [\"@playwright/mcp@latest\"]}\n",
    "\n",
    "playwright_params = StdioServerParameters(\n",
    "    command = \"npx\",\n",
    "    args = [\"@playwright/mcp@latest\"]\n",
    ")\n",
    "playwright_params\n"
   ]
  },
  {
   "cell_type": "code",
   "execution_count": 98,
   "metadata": {},
   "outputs": [],
   "source": [
    "async with stdio_client(playwright_params) as (read, write):\n",
    "    async with ClientSession(read, write) as session:\n",
    "        \n",
    "        await session.initialize()\n",
    "\n",
    "        # Get tools\n",
    "        tools = await load_mcp_tools(session)\n",
    "        print(tools)\n",
    "        agent = create_react_agent(llm, tools)\n",
    "        weather_response = await agent.ainvoke({\"messages\": \"how is the weather today in bengaluru, use web search tool\"})\n",
    "        print(weather_response['messages'][-1].content)"
   ]
  },
  {
   "cell_type": "markdown",
   "metadata": {},
   "source": [
    "## MultiServerMCPClient"
   ]
  },
  {
   "cell_type": "markdown",
   "metadata": {},
   "source": [
    "### And now.. bring on the Agent with Tools!"
   ]
  },
  {
   "cell_type": "code",
   "execution_count": 100,
   "metadata": {},
   "outputs": [],
   "source": [
    "from langchain_mcp_adapters.client import MultiServerMCPClient\n",
    "from langgraph.prebuilt import create_react_agent\n"
   ]
  },
  {
   "cell_type": "code",
   "execution_count": 101,
   "metadata": {},
   "outputs": [],
   "source": [
    "instructions = \"\"\"\n",
    "You browse the internet to accomplish your instructions.\n",
    "You are highly capable at browsing the internet independently to accomplish your task, \n",
    "including accepting all cookies and clicking 'not now' as\n",
    "appropriate to get to the content you need. If one website isn't fruitful, try another. \n",
    "Be persistent until you have solved your assignment,\n",
    "trying different options and sites as needed.\n",
    "\"\"\"\n",
    "\n",
    "sandbox_path = os.path.abspath(os.path.join(os.getcwd(), \"sandbox\"))\n",
    "\n",
    "client = MultiServerMCPClient(\n",
    "    {\n",
    "        \"web_search_tool\": {\n",
    "            \"command\": \"npx\", \n",
    "            \"args\": [\"@playwright/mcp@latest\"],\n",
    "            \"transport\": \"stdio\",\n",
    "        },\n",
    "        \"browser_automation\": {\n",
    "                'command': 'npx', \n",
    "                'args': ['-y', '@modelcontextprotocol/server-puppeteer'],\n",
    "                \"transport\": \"stdio\",\n",
    "            \n",
    "        },\n",
    "        \"fetch\": {\n",
    "            \"command\": \"uvx\",\n",
    "            \"args\": [\"mcp-server-fetch\"],\n",
    "            \"transport\": \"stdio\",\n",
    "        },\n",
    "        \"filemanager\":{\n",
    "            \"command\": \"npx\",\n",
    "            \"args\": [\"-y\", \"@modelcontextprotocol/server-filesystem\", sandbox_path],\n",
    "            \"transport\": \"stdio\",\n",
    "        }\n",
    "    }\n",
    ")\n"
   ]
  },
  {
   "cell_type": "code",
   "execution_count": 102,
   "metadata": {},
   "outputs": [],
   "source": [
    "tools = await client.get_tools()\n",
    "agent = create_react_agent(llm, tools)"
   ]
  },
  {
   "cell_type": "markdown",
   "metadata": {},
   "source": [
    "# weather tool"
   ]
  },
  {
   "cell_type": "code",
   "execution_count": 65,
   "metadata": {},
   "outputs": [
    {
     "data": {
      "text/plain": [
       "'The weather today in Bengaluru (Sampangi Rama Nagar, Karnataka) is as follows:\\n\\n- **Current Temperature:** 23°C with light drizzle.\\n- **High/Low:** 25°C / 21°C\\n- **Wind:** 31 km/h\\n- **Humidity:** 87%\\n- **Dew Point:** 21°C\\n- **Pressure:** 1010.2 mb\\n- **UV Index:** 8 of 11\\n- **Visibility:** 6.44 km\\n- **Moon Phase:** Waning Crescent\\n\\n### Forecast:\\n- **Morning:** 22°C, Light Rain/Windy\\n- **Afternoon:** 24°C, Few Showers, Chance of Rain 33%\\n- **Evening:** 22°C, Showers, Chance of Rain 52%\\n- **Overnight:** 21°C, Few Showers, Chance of Rain 32%\\n\\n### Hourly Forecast:\\n- **Now:** 23°C, Rain, Chance of Rain 83%\\n- **12:30:** 24°C, Rain, Chance of Rain 83%\\n- **13:30:** 24°C, Rain, Chance of Rain 93%\\n- **14:30:** 24°C, Rain, Chance of Rain 90%\\n- **15:30:** 25°C, Rain, Chance of Rain 78%\\n\\nThe air quality index is good, indicating minimal impact.'"
      ]
     },
     "execution_count": 65,
     "metadata": {},
     "output_type": "execute_result"
    }
   ],
   "source": [
    "weather_response = await agent.ainvoke({\"messages\": \"try to search and get the weather today in bengaluru\"})\n",
    "weather_response['messages'][-1].content"
   ]
  },
  {
   "cell_type": "markdown",
   "metadata": {},
   "source": [
    "# file manager"
   ]
  },
  {
   "cell_type": "code",
   "execution_count": 66,
   "metadata": {},
   "outputs": [
    {
     "data": {
      "text/plain": [
       "'The latest weather forecast for South India has been successfully saved in a markdown file. You can find it at the following location:\\n\\n`C:\\\\Users\\\\SIVERMA\\\\Documents\\\\Experimenting\\\\DeepSeek\\\\agents\\\\sandbox\\\\south_india_weather_forecast.md`'"
      ]
     },
     "execution_count": 66,
     "metadata": {},
     "output_type": "execute_result"
    }
   ],
   "source": [
    "filemanager_response = await agent.ainvoke({\"messages\": \"try to fetch latest forcast of weather in south india and save it into a well formated md file\"})\n",
    "filemanager_response['messages'][-1].content"
   ]
  },
  {
   "cell_type": "markdown",
   "metadata": {},
   "source": [
    "## fetch"
   ]
  },
  {
   "cell_type": "code",
   "execution_count": 87,
   "metadata": {},
   "outputs": [
    {
     "data": {
      "text/plain": [
       "'The article \"Using LangChain With Model Context Protocol (MCP)\" by Cobus Greyling on Medium discusses the Model Context Protocol (MCP), an open-source protocol developed by Anthropic. MCP aims to address the isolation of Large Language Model (LLM) applications from external data sources and tools. It standardizes how LLM-based applications connect to diverse systems, enabling seamless, secure, and scalable data exchange between AI agents and external resources.\\n\\nMCP uses a client-server architecture, allowing developers to build reusable, modular connectors with pre-built servers for popular platforms. Its open-source nature encourages innovation while maintaining security through features like granular permissions. MCP aims to transform AI agents into context-aware, interoperable systems integrated into digital environments.\\n\\nThe article also provides step-by-step instructions for connecting MCP servers to LangGraph agents and using MCP tools, including setting up a virtual environment, installing necessary packages, and running server and client code.\\n\\nIf you need more specific details or the continuation of the article, please let me know!'"
      ]
     },
     "execution_count": 87,
     "metadata": {},
     "output_type": "execute_result"
    }
   ],
   "source": [
    "fetch_response = await agent.ainvoke({\"messages\": \"can you get data from this url https://cobusgreyling.medium.com/using-langchain-with-model-context-protocol-mcp-e89b87ee3c4c\"})\n",
    "fetch_response['messages'][-1].content"
   ]
  },
  {
   "cell_type": "markdown",
   "metadata": {},
   "source": [
    "## combined"
   ]
  },
  {
   "cell_type": "code",
   "execution_count": 106,
   "metadata": {},
   "outputs": [
    {
     "data": {
      "text/plain": [
       "'I have created a well-documented markdown file on how to use MCP servers with LangChain. You can find the file at the following path:\\n\\n[C:\\\\Users\\\\SIVERMA\\\\Documents\\\\Experimenting\\\\DeepSeek\\\\how_to_use_mcp_servers.md](sandbox/C:\\\\Users\\\\SIVERMA\\\\Documents\\\\Experimenting\\\\DeepSeek\\\\how_to_use_mcp_servers.md)\\n\\nThe document includes an introduction to the Model Context Protocol (MCP), its key features, and a step-by-step guide on setting up MCP with LangChain. If you have any questions or need further assistance, feel free to ask!'"
      ]
     },
     "execution_count": 106,
     "metadata": {},
     "output_type": "execute_result"
    }
   ],
   "source": [
    "fetch_response = await agent.ainvoke({\"messages\": \"summarize the content from this https://cobusgreyling.medium.com/using-langchain-with-model-context-protocol-mcp-e89b87ee3c4c and put this in a well documented md file how to use MCP servers\"})\n",
    "fetch_response['messages'][-1].content"
   ]
  },
  {
   "cell_type": "markdown",
   "metadata": {},
   "source": [
    "# with langgraph"
   ]
  },
  {
   "cell_type": "code",
   "execution_count": 134,
   "metadata": {},
   "outputs": [
    {
     "data": {
      "text/plain": [
       "[StructuredTool(name='browser_close', description='Close the page', args_schema={'type': 'object', 'properties': {}, 'additionalProperties': False, '$schema': 'http://json-schema.org/draft-07/schema#'}, metadata={'title': 'Close browser', 'readOnlyHint': True, 'destructiveHint': False, 'idempotentHint': None, 'openWorldHint': True}, response_format='content_and_artifact', coroutine=<function convert_mcp_tool_to_langchain_tool.<locals>.call_tool at 0x0000018D6A29CE00>),\n",
       " StructuredTool(name='browser_resize', description='Resize the browser window', args_schema={'type': 'object', 'properties': {'width': {'type': 'number', 'description': 'Width of the browser window'}, 'height': {'type': 'number', 'description': 'Height of the browser window'}}, 'required': ['width', 'height'], 'additionalProperties': False, '$schema': 'http://json-schema.org/draft-07/schema#'}, metadata={'title': 'Resize browser window', 'readOnlyHint': True, 'destructiveHint': False, 'idempotentHint': None, 'openWorldHint': True}, response_format='content_and_artifact', coroutine=<function convert_mcp_tool_to_langchain_tool.<locals>.call_tool at 0x0000018D6A364400>),\n",
       " StructuredTool(name='browser_console_messages', description='Returns all console messages', args_schema={'type': 'object', 'properties': {}, 'additionalProperties': False, '$schema': 'http://json-schema.org/draft-07/schema#'}, metadata={'title': 'Get console messages', 'readOnlyHint': True, 'destructiveHint': False, 'idempotentHint': None, 'openWorldHint': True}, response_format='content_and_artifact', coroutine=<function convert_mcp_tool_to_langchain_tool.<locals>.call_tool at 0x0000018D6A3647C0>)]"
      ]
     },
     "execution_count": 134,
     "metadata": {},
     "output_type": "execute_result"
    }
   ],
   "source": [
    "from langchain_mcp_adapters.client import MultiServerMCPClient\n",
    "from langgraph.graph import StateGraph, MessagesState, START\n",
    "from langgraph.prebuilt import ToolNode, tools_condition\n",
    "\n",
    "\n",
    "tools = await client.get_tools()\n",
    "tools[:3]\n"
   ]
  },
  {
   "cell_type": "markdown",
   "metadata": {},
   "source": [
    "## Add Push Notification"
   ]
  },
  {
   "cell_type": "code",
   "execution_count": 150,
   "metadata": {},
   "outputs": [],
   "source": [
    "from langchain.agents import Tool\n",
    "import requests\n",
    "\n",
    "\n",
    "pushover_token = \"a1axxxxxxxxxxxxxxxxxxxxxxxxxx\"\n",
    "pushover_user = \"ga8kxxxxxxxxxxxxxxxxxxxxxxxxx\"\n",
    "pushover_url = \"https://api.pushover.net/1/messages.json\"\n",
    "\n",
    "def push(text: str, sound_type: str = \"magic\"):\n",
    "    \"\"\"Send a push notification to the user\"\"\"\n",
    "    res = requests.post(\n",
    "        pushover_url, \n",
    "        data = {\"token\": pushover_token, \"user\": pushover_user, \"message\": text, \"sound\": sound_type})\n",
    "    print(res)\n",
    "\n",
    "tool_push = Tool(\n",
    "        name=\"send_push_notification\",\n",
    "        func=push,\n",
    "        description=\"useful for when you want to send a push notification\"\n",
    "    )"
   ]
  },
  {
   "cell_type": "code",
   "execution_count": 151,
   "metadata": {},
   "outputs": [],
   "source": [
    "tools = tools + [tool_push]"
   ]
  },
  {
   "cell_type": "code",
   "execution_count": 152,
   "metadata": {},
   "outputs": [],
   "source": [
    "\n",
    "def call_model(state: MessagesState):\n",
    "    response = llm.bind_tools(tools).invoke(state[\"messages\"])\n",
    "    return {\"messages\": response}\n",
    "\n",
    "builder = StateGraph(MessagesState)\n",
    "builder.add_node(call_model)\n",
    "builder.add_node(ToolNode(tools))\n",
    "builder.add_edge(START, \"call_model\")\n",
    "builder.add_conditional_edges(\n",
    "    \"call_model\",\n",
    "    tools_condition,\n",
    ")\n",
    "builder.add_edge(\"tools\", \"call_model\")\n",
    "graph = builder.compile()"
   ]
  },
  {
   "cell_type": "code",
   "execution_count": 153,
   "metadata": {},
   "outputs": [
    {
     "data": {
      "image/png": "[encoded data removed]",
      "text/plain": [
       "<IPython.core.display.Image object>"
      ]
     },
     "execution_count": 153,
     "metadata": {},
     "output_type": "execute_result"
    }
   ],
   "source": [
    "from IPython.display import Image\n",
    "\n",
    "Image(graph.get_graph().draw_mermaid_png())"
   ]
  },
  {
   "cell_type": "code",
   "execution_count": 143,
   "metadata": {},
   "outputs": [],
   "source": [
    "weather_response = await graph.ainvoke({\"messages\": \"latest news as of today and how they will manipulate the sotck market in upcomin days use web search tool? put the response in well formated md file and save it\"})"
   ]
  },
  {
   "cell_type": "code",
   "execution_count": 144,
   "metadata": {},
   "outputs": [
    {
     "data": {
      "text/plain": [
       "'The latest news and their potential impact on the stock market have been compiled and saved in a markdown file. You can find the file at:\\n\\n`C:\\\\Users\\\\SIVERMA\\\\Documents\\\\Experimenting\\\\DeepSeek\\\\agents\\\\sandbox\\\\latest_news_stock_market.md`'"
      ]
     },
     "execution_count": 144,
     "metadata": {},
     "output_type": "execute_result"
    }
   ],
   "source": [
    "weather_response['messages'][-1].content"
   ]
  },
  {
   "cell_type": "markdown",
   "metadata": {},
   "source": [
    "# with push notify"
   ]
  },
  {
   "cell_type": "code",
   "execution_count": 160,
   "metadata": {},
   "outputs": [],
   "source": [
    "push_response = await graph.ainvoke({\"messages\": \"get the weather forcast with online search for tomorrow in bengaluru and notify user for accordingly be ready\"})"
   ]
  },
  {
   "cell_type": "code",
   "execution_count": 161,
   "metadata": {},
   "outputs": [
    {
     "data": {
      "text/plain": [
       "\"I've sent you a push notification with the weather alert for Bengaluru tomorrow. Stay prepared for thundery showers and a fresh breeze!\""
      ]
     },
     "execution_count": 161,
     "metadata": {},
     "output_type": "execute_result"
    }
   ],
   "source": [
    "push_response['messages'][-1].content"
   ]
  },
  {
   "cell_type": "code",
   "execution_count": null,
   "metadata": {},
   "outputs": [],
   "source": []
  }
 ],
 "metadata": {
  "kernelspec": {
   "display_name": "Agentic_beast",
   "language": "python",
   "name": "my-env-name"
  },
  "language_info": {
   "codemirror_mode": {
    "name": "ipython",
    "version": 3
   },
   "file_extension": ".py",
   "mimetype": "text/x-python",
   "name": "python",
   "nbconvert_exporter": "python",
   "pygments_lexer": "ipython3",
   "version": "3.11.1"
  }
 },
 "nbformat": 4,
 "nbformat_minor": 4
}
